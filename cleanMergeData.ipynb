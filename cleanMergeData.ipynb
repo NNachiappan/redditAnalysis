{
  "nbformat": 4,
  "nbformat_minor": 2,
  "metadata": {
    "colab": {
      "name": "DataCleaningandMerge.ipynb",
      "provenance": [],
      "collapsed_sections": []
    },
    "kernelspec": {
      "name": "python386jvsc74a57bd017767560fef6456e08416b833cd60cbe97e29174fd16fff4cbad564a6fa9df30",
      "display_name": "Python 3.8.6 64-bit"
    },
    "metadata": {
      "interpreter": {
        "hash": "17767560fef6456e08416b833cd60cbe97e29174fd16fff4cbad564a6fa9df30"
      }
    }
  },
  "cells": [
    {
      "cell_type": "code",
      "execution_count": null,
      "source": [
        "##########\r\n",
        "#name of subreddit, change this\r\n",
        "subName = \"wallstreetbets\"\r\n",
        "#########################################\r\n",
        "\r\n",
        "\r\n",
        "\r\n",
        "\r\n",
        "\r\n",
        "\r\n",
        "\r\n",
        "\r\n",
        "import pandas\r\n",
        "\r\n",
        "##################################Cleaning Posts/Submissions file###############################\r\n",
        "postsDF = pandas.read_csv(\"Sub-wallstreetbets-010121-080121-CreatedOn-230321-154649.csv\")\r\n",
        "\r\n",
        "postsDF.columns = ['author', 'id', 'created_utc', 'title', 'selftext', 'score']\r\n",
        "print(\"Shape of Posts:\", postsDF.shape)\r\n",
        "\r\n",
        "####################Cleaning#######################\r\n",
        "\r\n",
        "#make copy before cleaning\r\n",
        "cleanedPostsDF = postsDF.copy()\r\n",
        "\r\n",
        "#Removed deleted selftext of post meaning that the author or moderator deleted their post.\r\n",
        "cleanedPostsDF = cleanedPostsDF.drop(cleanedPostsDF[cleanedPostsDF.selftext == '[removed]'].index)\r\n",
        "cleanedPostsDF = cleanedPostsDF.drop(cleanedPostsDF[cleanedPostsDF.author == '[deleted]'].index)\r\n",
        "print(\"After Removed:\", cleanedPostsDF.shape)\r\n",
        "###################################################\r\n",
        "\r\n",
        "#print head\r\n",
        "cleanedPostsDF.head()"
      ],
      "outputs": [],
      "metadata": {
        "colab": {
          "base_uri": "https://localhost:8080/",
          "height": 238
        },
        "id": "Y5NEgZr8xOHK",
        "outputId": "c5791104-4df0-4031-c58c-407d5e472cb6"
      }
    },
    {
      "cell_type": "code",
      "execution_count": null,
      "source": [
        "############################################Comments and cleaning comments###########################\r\n",
        "\r\n",
        "cmmntsDF = pandas.read_csv(\"Comments-wallstreetbets-010121-270221-CreatedOn-240321-225631.csv\")\r\n",
        "cmmntsDF.columns = ['author', 'id', 'created_utc', 'is_submitter', 'body', 'link_id', 'parent_id', 'score', 'total_awards_received', 'banned_at_utc']\r\n",
        "print(\"Shape of Comments:\", cmmntsDF.shape)\r\n",
        "\r\n",
        "cleanedCmmntsDF = cmmntsDF.copy()\r\n",
        "\r\n",
        "####################Cleaning#######################\r\n",
        "\r\n",
        "#Removed deleted body of comment meaning that the author or moderator deleted their post.\r\n",
        "cleanedCmmntsDF = cleanedCmmntsDF.drop(cleanedCmmntsDF[cleanedCmmntsDF.body == '[removed]'].index)\r\n",
        "\r\n",
        "#Remove comments where the comment is made by the author of the post. i.e remove self edges.\r\n",
        "cleanedCmmntsDF = cleanedCmmntsDF.loc[cleanedCmmntsDF['is_submitter'] == False]\r\n",
        "###################################################\r\n",
        "\r\n",
        "\r\n",
        "print(\"Shape after clean:\", cleanedCmmntsDF.shape)\r\n",
        "cleanedCmmntsDF.head()"
      ],
      "outputs": [],
      "metadata": {
        "colab": {
          "base_uri": "https://localhost:8080/",
          "height": 238
        },
        "id": "eLVbkb_z00Kn",
        "outputId": "f4b790de-d6ff-42c0-d1f0-e1360c34e184"
      }
    },
    {
      "cell_type": "code",
      "execution_count": null,
      "source": [
        "################################################Pruning nodes################################################\r\n",
        "\r\n",
        "#Comment Pruning\r\n",
        "#Remove those that made only one comment\r\n",
        "authorsFreq = cleanedCmmntsDF.copy()\r\n",
        "authorsFreq = authorsFreq['author'].value_counts() > 1\r\n",
        "\r\n",
        "\r\n",
        "#Convert back to dataframe\r\n",
        "filteredAuth = authorsFreq.to_frame()\r\n",
        "filteredAuth.reset_index(inplace=True)\r\n",
        "\r\n",
        "#Set Column names \r\n",
        "filteredAuth.columns = ['author', 'tokeep']\r\n",
        "\r\n",
        "\r\n",
        "#Get list of authors to keep\r\n",
        "filteredAuth = filteredAuth[filteredAuth['tokeep'] == True]\r\n",
        "listofAuth = filteredAuth['author'].tolist()\r\n",
        "\r\n",
        "#Filter\r\n",
        "filteredCom = cleanedCmmntsDF[cleanedCmmntsDF['author'].isin(listofAuth)]\r\n",
        "\r\n",
        "\r\n",
        "\r\n",
        "####################Clean posts################################################\r\n",
        "\r\n",
        "#############Random sample the posts######################\r\n",
        "# cleanedPostsDF = cleanedPostsDF.sample(n = 100)\r\n",
        "##########################################################\r\n",
        "\r\n",
        "#All posts in feb\r\n",
        "# cleanedPostsDF = cleanedPostsDF[cleanedPostsDF['created_utc'] > 1612137600]\r\n",
        "\r\n",
        "#First Week in Jan, 1st Jan to 8th Jan 00:00 and score more than 1\r\n",
        "print(cleanedPostsDF.shape)\r\n",
        "cleanedPostsDF = cleanedPostsDF[(cleanedPostsDF['created_utc'] > 1609459200) & (cleanedPostsDF['created_utc'] < 1610064000)]\r\n",
        "cleanedPostsDF = cleanedPostsDF[(cleanedPostsDF['score'] > 1)]\r\n",
        "print(cleanedPostsDF.shape)\r\n",
        "\r\n",
        "\r\n",
        "\r\n",
        "print(\"Before filter shape:\",cleanedCmmntsDF.shape)\r\n",
        "print(\"Filtered comments shape:\",filteredCom.shape)\r\n",
        "filteredCom.head()"
      ],
      "outputs": [],
      "metadata": {
        "colab": {
          "base_uri": "https://localhost:8080/",
          "height": 272
        },
        "id": "h8q0aWyV4IIY",
        "outputId": "f655f7bd-6ef4-4b5e-ab56-b4b29e972a58"
      }
    },
    {
      "cell_type": "code",
      "execution_count": null,
      "source": [
        "#Merge and get comments to posts\r\n",
        "\r\n",
        "#Clean before merge\r\n",
        "#Note the link_id in the comments csv from the data download starts with 't3_'\r\n",
        "#We need to remove the first 3 chars to remove this so that we can link comments \r\n",
        "#with posts with a merge join.\r\n",
        "cleanFilteredCom = filteredCom.copy()\r\n",
        "cleanFilteredCom['link_id'] = cleanFilteredCom['link_id'].str[3:]\r\n",
        "\r\n",
        "\r\n",
        "#Merge Join\r\n",
        "merged = pandas.merge(cleanedPostsDF, cleanFilteredCom, left_on='id', right_on='link_id')\r\n",
        "print(\"Shape of Merge:\", merged.shape)\r\n",
        "\r\n",
        "merged.head()\r\n",
        "\r\n",
        "\r\n",
        "##Saving Files\r\n",
        "from pathlib import Path\r\n",
        "Path(\"Cleaned Posts and Comments Data/With AutoMod/Cleaned Posts\").mkdir(parents=True, exist_ok=True)\r\n",
        "Path(\"Cleaned Posts and Comments Data/With AutoMod/Cleaned Comments\").mkdir(parents=True, exist_ok=True)\r\n",
        "\r\n",
        "#Get Posts Data only of the cleaned posts, from the 1,000s of posts\r\n",
        "postsDataDF = merged[['author_x', 'id_x', 'created_utc_x', 'title', 'selftext','score_x']]\r\n",
        "postsDataDF.columns = ['author', 'id', 'created_utc', 'title', 'selftext', 'score']\r\n",
        "postsDataDF = postsDataDF.drop_duplicates()\r\n",
        "postsDataDF.to_csv(\"Cleaned Posts and Comments Data/With AutoMod/Cleaned Posts/cleanedPostsData-WITHAutoMod-{}.csv\".format(subName), index=False)\r\n",
        "\r\n",
        "\r\n",
        "\r\n",
        "#Get Comments Data only of the cleaned posts, from the 1,000,000 comments which has all the comments\r\n",
        "commentsOfPostsDF = merged[['author_y', 'id_y', 'created_utc_y', 'is_submitter', 'body', 'link_id','parent_id', 'score_y', 'total_awards_received', 'banned_at_utc']]\r\n",
        "commentsOfPostsDF.columns = ['author', 'id', 'created_utc', 'is_submitter', 'body', 'link_id', 'parent_id', 'score', 'total_awards_received', 'banned_at_utc']\r\n",
        "commentsOfPostsDF.to_csv(\"Cleaned Posts and Comments Data/With AutoMod/Cleaned Comments/cleanedCommentsofPostsData-WITHAutoMod-{}.csv\".format(subName), index=False)"
      ],
      "outputs": [],
      "metadata": {
        "colab": {
          "base_uri": "https://localhost:8080/"
        },
        "id": "rwMmkusVp0Pi",
        "outputId": "7aea9658-7568-4c71-ee90-ff7a7715bd17"
      }
    },
    {
      "cell_type": "code",
      "execution_count": null,
      "source": [
        "from pathlib import Path\r\n",
        "Path(\"Edgelists/With Automod\").mkdir(parents=True, exist_ok=True)\r\n",
        "\r\n",
        "############Edge List from merged###################\r\n",
        "\r\n",
        "edgeList = merged.copy()\r\n",
        "edgeList = edgeList[[\"author_y\", \"author_x\"]]\r\n",
        "edgeList.columns = [\"Source\", \"Target\"]\r\n",
        "\r\n",
        "#Drop duplicates but add a edge weight columns\r\n",
        "#Maybe switch to edge weight?\r\n",
        "print(\"With duplicate edges:\", edgeList.shape)\r\n",
        "# edgeList.drop_duplicates(subset=[\"Source\", \"Target\"], keep='first',inplace=True)\r\n",
        "#Weight Column\r\n",
        "edgeList = edgeList.groupby(['Source', 'Target']).size().sort_values(ascending=False).reset_index(name='Weight')\r\n",
        "print(\"Without duplicate edges and with edge weight column:\", edgeList.shape)\r\n",
        "\r\n",
        "\r\n",
        "edgeList.to_csv(\"Edgelists/With Automod/{}-EdgeList-WithAutoMod-CommentsToPosts.csv\".format(subName), index=False)\r\n",
        "edgeList.head()"
      ],
      "outputs": [],
      "metadata": {
        "id": "fbYzF9vHCCNb",
        "colab": {
          "base_uri": "https://localhost:8080/",
          "height": 238
        },
        "outputId": "0e0109fd-2989-43ab-bd2f-a1f1e62f1526"
      }
    },
    {
      "cell_type": "code",
      "execution_count": null,
      "source": [
        "from pathlib import Path\r\n",
        "Path(\"Cleaned Posts and Comments Data/No AutoMod/Cleaned Posts\").mkdir(parents=True, exist_ok=True)\r\n",
        "Path(\"Cleaned Posts and Comments Data/With AutoMod/Cleaned Comments\").mkdir(parents=True, exist_ok=True)\r\n",
        "Path(\"Edgelists/No AutoMod\").mkdir(parents=True, exist_ok=True)\r\n",
        "################Removed AutoMod Version of Files#########################\r\n",
        "\r\n",
        "#No AutoMod Posts, verifiied working\r\n",
        "print(\"With AutoMod Posts Shape: \", postsDataDF.shape)\r\n",
        "noAutoModPosts = postsDataDF[postsDataDF.author != \"AutoModerator\"]\r\n",
        "noAutoModPosts.to_csv(\"Cleaned Posts and Comments Data/No AutoMod/Cleaned Posts/PostsOnly-{}-NOAutoMod.csv\".format(subName), index=False)\r\n",
        "print(\"No AutoMod Posts Shape: \", noAutoModPosts.shape)\r\n",
        "\r\n",
        "\r\n",
        "#No AutoMod Comments, need to remove comments made on an automod post so...\r\n",
        "# need to use the 'merged' dataframe from before\r\n",
        "print(\"With AutoMod Comments Shape: \", commentsOfPostsDF.shape)\r\n",
        "noAutoModCommments = merged.copy()\r\n",
        "noAutoModCommments = noAutoModCommments[(noAutoModCommments != 'AutoModerator').all(1)]\r\n",
        "noAutoModCommments = noAutoModCommments[['author_y', 'id_y', 'created_utc_y', 'is_submitter', 'body', 'link_id','parent_id', 'score_y', 'total_awards_received', 'banned_at_utc']]\r\n",
        "noAutoModCommments.columns = ['author', 'id', 'created_utc', 'is_submitter', 'body', 'link_id', 'parent_id', 'score', 'total_awards_received', 'banned_at_utc']\r\n",
        "noAutoModCommments.to_csv(\"Cleaned Posts and Comments Data/No AutoMod/Cleaned Comments/CommentsOnly-{}-NOAutoMod.csv\".format(subName), index=False)\r\n",
        "print(\"No AutoMod Comments Shape: \", noAutoModCommments.shape)\r\n",
        "\r\n",
        "#No AutoMod EdgeList, verified working\r\n",
        "print(\"With AutoMod EdgeList Shape: \", edgeList.shape)\r\n",
        "noAutoModEdgeList = edgeList[(edgeList != 'AutoModerator').all(1)]\r\n",
        "noAutoModEdgeList.to_csv(\"Edgelists/No AutoMod/{}-edgeListNOAutoMod-CommentsToPosts.csv\".format(subName), index=False)\r\n",
        "print(\"No AutoMod EdgeList Shape: \", noAutoModEdgeList.shape)"
      ],
      "outputs": [],
      "metadata": {}
    },
    {
      "cell_type": "code",
      "execution_count": null,
      "source": [
        "import scipy.stats as stats\r\n",
        "###########################Some Statistics of the Data to help pruning#######################\r\n",
        "#Using Cleaned comments therefore only comments that are not made by the same person as the post\r\n",
        "commentStats = commentsOfPostsDF.copy()\r\n",
        "#Convert unix time to datetime.\r\n",
        "commentStats['created_utc'] = pandas.to_datetime(commentStats['created_utc'],unit='s')\r\n",
        "\r\n",
        "#Using Cleaned Posts\r\n",
        "postsStats = postsDataDF.copy()\r\n",
        "postsStats['created_utc'] = pandas.to_datetime(postsStats['created_utc'],unit='s')\r\n",
        "\r\n",
        "\r\n",
        "#####Posts per day over the 3 month period#####\r\n",
        "numPostsDay = postsStats.groupby(postsStats['created_utc'].dt.date).size().reset_index(name='Count')\r\n",
        "##################################################\r\n",
        "\r\n",
        "\r\n",
        "\r\n",
        "#####Comments per day over the 3 month period#####\r\n",
        "numCommsDay = commentStats.groupby(commentStats['created_utc'].dt.date).size().reset_index(name='Count')\r\n",
        "##################################################\r\n",
        "\r\n",
        "\r\n",
        "\r\n",
        "#####Bar Chart of number of comments per user#####\r\n",
        "authorComments = commentStats['author'].value_counts()\r\n",
        "#Convert back to dataframe\r\n",
        "authorComments = authorComments.to_frame()\r\n",
        "authorComments.reset_index(inplace=True)\r\n",
        "authorComments.columns = ['author', 'count']\r\n",
        "##################################################\r\n",
        "\r\n",
        "\r\n",
        "\r\n",
        "\r\n",
        "\r\n",
        "#All Plots\r\n",
        "numPostsDay.plot.bar(x='created_utc', figsize=(15,7), title='PostsPerDay')\r\n",
        "numCommsDay.plot.bar(x='created_utc', figsize=(15,7), title='CommentsPerDay')\r\n",
        "authorComments[:100].plot.bar(x='author', y='count',figsize=(15,7), title='Author comment count')"
      ],
      "outputs": [],
      "metadata": {
        "colab": {
          "base_uri": "https://localhost:8080/",
          "height": 1000
        },
        "id": "u9NX5sx7xgPM",
        "outputId": "df3c71f2-7405-476e-dd3d-0062c468ca81"
      }
    }
  ]
}